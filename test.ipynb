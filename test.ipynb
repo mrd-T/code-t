{
 "cells": [
  {
   "cell_type": "code",
   "execution_count": 1,
   "metadata": {},
   "outputs": [
    {
     "name": "stdout",
     "output_type": "stream",
     "text": [
      "特征值: [5.65109341 1.62279715 2.72610945]\n",
      "Ratio of |lambda_1| / |lambda_3|: 2.0729517735349012\n"
     ]
    }
   ],
   "source": [
    "import numpy as np\n",
    "\n",
    "# 定义矩阵 A\n",
    "A = np.array([[5, -1, 1],\n",
    "              [-1, 2, 0],\n",
    "              [1, 0, 3]])\n",
    "\n",
    "# 计算特征值\n",
    "eigenvalues = np.linalg.eigvals(A)\n",
    "\n",
    "# 计算特征值的绝对值\n",
    "abs_eigenvalues = np.abs(eigenvalues)\n",
    "\n",
    "# 找到最大和最小特征值\n",
    "lambda_1 = abs_eigenvalues[0]\n",
    "lambda_2 = abs_eigenvalues[1]\n",
    "lambda_3 = abs_eigenvalues[2]\n",
    "\n",
    "# 计算比率\n",
    "ratio = lambda_1 / lambda_3\n",
    "\n",
    "print(f'特征值: {abs_eigenvalues}')\n",
    "print(f'Ratio of |lambda_1| / |lambda_3|: {ratio}')\n"
   ]
  }
 ],
 "metadata": {
  "kernelspec": {
   "display_name": ".venv",
   "language": "python",
   "name": "python3"
  },
  "language_info": {
   "codemirror_mode": {
    "name": "ipython",
    "version": 3
   },
   "file_extension": ".py",
   "mimetype": "text/x-python",
   "name": "python",
   "nbconvert_exporter": "python",
   "pygments_lexer": "ipython3",
   "version": "3.13.0"
  }
 },
 "nbformat": 4,
 "nbformat_minor": 2
}
